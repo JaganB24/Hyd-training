{
 "cells": [
  {
   "cell_type": "code",
   "execution_count": null,
   "metadata": {},
   "outputs": [],
   "source": [
    "read two numbers and print the output as square "
   ]
  },
  {
   "cell_type": "markdown",
   "metadata": {},
   "source": [
    "#include <stdio.h>\n",
    "#include<math.h>\n",
    "int main()\n",
    "{\n",
    "\tint x,y;\n",
    "    scanf(\"%d%d\",&x,&y);\n",
    "\tif(x>y){\n",
    "\t\tprintf(\"%d\",x*x);\n",
    "\t}\n",
    "\telse\n",
    "\t{\n",
    "\t\tprintf(\"%d\",y*y);\n",
    "\t}\n",
    "\treturn 0;\n",
    "}"
   ]
  },
  {
   "cell_type": "code",
   "execution_count": null,
   "metadata": {},
   "outputs": [],
   "source": [
    "read the age of the person as input and print the output as eligible for voting or not the age in btw\n",
    "18 to 85"
   ]
  },
  {
   "cell_type": "code",
   "execution_count": null,
   "metadata": {},
   "outputs": [],
   "source": [
    "#include <stdio.h>\n",
    "int main(){\n",
    "\n",
    "\n",
    "    int age;\n",
    "\tscanf(\"%d\",&age);\n",
    "\tif(age>=18 && age<=85)\n",
    "\t{\n",
    "\t\tprintf(\"eligible\");\n",
    "\t}\n",
    "\telse\n",
    "\t{\n",
    "\t\tprintf(\"not eligible\");\n",
    "\t}\n",
    "}\n"
   ]
  },
  {
   "cell_type": "code",
   "execution_count": null,
   "metadata": {},
   "outputs": [],
   "source": [
    "read the character as input and check wether it is upper case or lower or digit "
   ]
  },
  {
   "cell_type": "code",
   "execution_count": null,
   "metadata": {},
   "outputs": [],
   "source": [
    "#include<stdio.h>\n",
    "\n",
    "int main(){\n",
    "\tchar a;\n",
    "\tscanf(\"%c\",&a);\n",
    "\tif(a>=97 && a<=122)\n",
    "\t{\n",
    "\t\tprintf(\"lower\");\n",
    "\t}\n",
    "\telse if(a>=60 && a<=90)\n",
    "\t{\n",
    "\t\tprintf(\"upper\");\n",
    "\t\t\n",
    "\t } \n",
    "\telse if(a>=48 && a<=57){\n",
    "\t\tprintf(\"integer\");\n",
    "\t}\n",
    "}"
   ]
  },
  {
   "cell_type": "code",
   "execution_count": null,
   "metadata": {},
   "outputs": [],
   "source": [
    "read the input as character and print the output as whether it is vowel or consonent"
   ]
  },
  {
   "cell_type": "code",
   "execution_count": null,
   "metadata": {},
   "outputs": [],
   "source": [
    "#include <stdio.h>\n",
    "int main(){\n",
    "\tchar vowel[]={'a','e','i','o','u'};\n",
    "\tint i=0;\n",
    "\tchar che;\n",
    "\tscanf(\"%c\",&che);\n",
    "\tif(che==vowel[i]){\n",
    "\t\tprintf(\"vowel\");\n",
    "\t\ti++;\n",
    "\t\t\n",
    "\t}\n",
    "\telse\n",
    "\t{\n",
    "\t\tprintf(\"consonent\");\n",
    "\t}\n",
    "}"
   ]
  },
  {
   "cell_type": "code",
   "execution_count": null,
   "metadata": {},
   "outputs": [],
   "source": [
    "read the number as input and check whether is divisible by 3 and 5 or not"
   ]
  },
  {
   "cell_type": "code",
   "execution_count": null,
   "metadata": {},
   "outputs": [],
   "source": [
    "#include <stdio.h>\n",
    "int main()\n",
    "{\n",
    "\tint a;\n",
    "\tscanf(\"%d\",&a);\n",
    "\tif(a%3==0 && a%5==0)\n",
    "\t{\n",
    "\t\tprintf(\"PERFECT\");\n",
    "\t}\n",
    "\telse\n",
    "\t{\n",
    "\t\tprintf(\"is not perfecct\");\n",
    "\t}\n",
    "}"
   ]
  },
  {
   "cell_type": "code",
   "execution_count": null,
   "metadata": {},
   "outputs": [],
   "source": [
    "read the number as a input and print the output as week name"
   ]
  },
  {
   "cell_type": "code",
   "execution_count": null,
   "metadata": {},
   "outputs": [],
   "source": [
    "#include <stdio.h>\n",
    "int main(){\n",
    "\tint a;\n",
    "\tscanf(\"%d\",&a);\n",
    "\tswitch(a){\n",
    "\t\tcase 1:printf(\"sunday\");\n",
    "\t\tbreak;\n",
    "\t\tcase 2:printf(\"monday\");\n",
    "\t\tbreak;\n",
    "\t\tcase 3:printf(\"tuesday\");\n",
    "\t\tbreak;\n",
    "\t\tcase 4:printf(\"wednesday\");\n",
    "\t\tbreak;\n",
    "\t\tcase 5:printf(\"thursday\");\n",
    "\t\tbreak;\n",
    "\t\tcase 6:printf(\"friday\");\n",
    "\t\tbreak;\n",
    "\t\tcase 7:printf(\"saturday\");\n",
    "\t\tbreak;\n",
    "\t\tdefault : printf(\"n\");\n",
    "\t}\n",
    "}"
   ]
  },
  {
   "cell_type": "code",
   "execution_count": null,
   "metadata": {},
   "outputs": [],
   "source": [
    "read the three angles as input and check with these angles can be able to construct a triangle or not"
   ]
  },
  {
   "cell_type": "code",
   "execution_count": null,
   "metadata": {},
   "outputs": [],
   "source": [
    "#include <stdio.h>\n",
    "int main(){\n",
    "\tint a,b,c;\n",
    "\tscanf(\"%d%d%d\",&a,&b,&c);\n",
    "\tif(a!=0 && b!=0 && c!=0 && (a+b+c==180)){\n",
    "\t\tprintf(\"can construct\");\n",
    "\t}\n",
    "\telse {\n",
    "\t\tprintf(\"not possible\");\n",
    "\t}\n",
    "}"
   ]
  },
  {
   "cell_type": "code",
   "execution_count": null,
   "metadata": {},
   "outputs": [],
   "source": [
    "read the number as input and print the natural numbers from 1 to n"
   ]
  },
  {
   "cell_type": "code",
   "execution_count": null,
   "metadata": {},
   "outputs": [],
   "source": [
    "#include <stdio.h>\n",
    "int main(){\n",
    "\tint a;\n",
    "\tscanf(\"%d\",&a);\n",
    "\tint i=1;\n",
    "\twhile(i<=a){\n",
    "\t\tprintf(\"\\n%d\",i);\n",
    "\t\ti++;\n",
    "\t}\n",
    "}"
   ]
  },
  {
   "cell_type": "code",
   "execution_count": null,
   "metadata": {},
   "outputs": [],
   "source": [
    "read the number as input and print the sum of the even numbers "
   ]
  },
  {
   "cell_type": "code",
   "execution_count": null,
   "metadata": {},
   "outputs": [],
   "source": []
  },
  {
   "cell_type": "code",
   "execution_count": null,
   "metadata": {},
   "outputs": [],
   "source": [
    "read two numbers as input and print the output as the numbers which is divisible by 3,5"
   ]
  },
  {
   "cell_type": "code",
   "execution_count": null,
   "metadata": {},
   "outputs": [],
   "source": []
  }
 ],
 "metadata": {
  "kernelspec": {
   "display_name": "Python 3",
   "language": "python",
   "name": "python3"
  },
  "language_info": {
   "codemirror_mode": {
    "name": "ipython",
    "version": 3
   },
   "file_extension": ".py",
   "mimetype": "text/x-python",
   "name": "python",
   "nbconvert_exporter": "python",
   "pygments_lexer": "ipython3",
   "version": "3.7.3"
  }
 },
 "nbformat": 4,
 "nbformat_minor": 2
}
